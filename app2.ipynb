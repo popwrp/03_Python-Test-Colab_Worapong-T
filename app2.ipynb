{
 "cells": [
  {
   "cell_type": "code",
   "execution_count": 42,
   "metadata": {},
   "outputs": [],
   "source": [
    "import findspark\n",
    "findspark.init()\n"
   ]
  },
  {
   "cell_type": "code",
   "execution_count": 43,
   "metadata": {},
   "outputs": [],
   "source": [
    "from pyspark.sql import SparkSession\n",
    "from pyspark.sql.functions import col, sum, when"
   ]
  },
  {
   "cell_type": "code",
   "execution_count": 34,
   "metadata": {},
   "outputs": [],
   "source": [
    "spark = SparkSession.builder \\\n",
    "    .appName(\"Read CSV with Header and Delimiter\") \\\n",
    "    .getOrCreate()"
   ]
  },
  {
   "cell_type": "code",
   "execution_count": 35,
   "metadata": {},
   "outputs": [],
   "source": [
    "pricing_path='./pricing_project_dataset.csv'\n"
   ]
  },
  {
   "cell_type": "code",
   "execution_count": 36,
   "metadata": {},
   "outputs": [
    {
     "name": "stdout",
     "output_type": "stream",
     "text": [
      "+------------+--------------+--------------+--------------+---------------+------------------+-------------------+----------------------+------------------+----------------------+--------------+------------+-----------------------------------+\n",
      "|grass_region|category_group|   seller_type|shopee_item_id|shopee_model_id|competitor_item_id|competitor_model_id|shopee_model_price_usd|shopee_model_price|competitor_model_price|shopee_gmv_usd|shopee_order|shopee_model_competitiveness_status|\n",
      "+------------+--------------+--------------+--------------+---------------+------------------+-------------------+----------------------+------------------+----------------------+--------------+------------+-----------------------------------+\n",
      "|          ID|   Electronics|Long Tail (LT)|    5646734211|     3953474697|        9153508336|          992466002|           50.33644918|            779233|                647903|   8758.537644|         174|                       Shopee > CPT|\n",
      "|          SG|          FMCG|Long Tail (LT)|    3735125711|     6296885988|        3250973377|         3554673425|           60.00166879|                81|                    94|   11120.73712|         187|                       Shopee < CPT|\n",
      "|          TH|   Electronics|      Non-Mall|    2579813608|     1304588577|        4678400449|         2635346813|           18.06959021|               659|                   675|   3178.819563|         176|                       Shopee < CPT|\n",
      "|          PH|          FMCG|Long Tail (LT)|    8699492214|     5735505766|        9052147161|         1100640033|           16.02339471|               906|                   861|   560.4057684|          35|                       Shopee > CPT|\n",
      "|          TH|          FMCG|Long Tail (LT)|    4815010572|     2537451514|        1289693311|          330522796|           169.2981808|              6177|                  7004|   1523.659436|           9|                       Shopee < CPT|\n",
      "|          ID|          FMCG|  Cross Border|    2360234746|     8873059029|        4373636343|         6388067669|           304.8125177|           4718650|               4963058|   51513.31352|         169|                       Shopee < CPT|\n",
      "|          TH|   Electronics|      Non-Mall|    9800132511|     3580795314|        8493800350|           48609194|           19.56659684|               713|                   608|     3869.2119|         198|                       Shopee > CPT|\n",
      "|          ID|     Lifestyle|  Cross Border|    4066670015|     3392849992|        6682615321|         6466430183|           40.37182675|            624976|                599679|   7024.697135|         174|                       Shopee > CPT|\n",
      "|          MY|       Fashion|  Cross Border|    9831477701|      281518001|        8957608032|         9867486733|           8.315866319|                38|                    34|   1443.217581|         178|                       Shopee > CPT|\n",
      "|          ID|       Fashion|  Cross Border|    1803766116|     9789480590|        9161538993|         6257218394|            318.419406|           4929291|               4742978|   19742.00071|          62|                       Shopee > CPT|\n",
      "|          ID|          FMCG|          Mall|    1234281420|     1679483802|        9265679840|         4767229257|           287.9275942|           4457263|               4971937|   47220.12416|         164|                       Shopee < CPT|\n",
      "|          TH|   Electronics|      Non-Mall|    9473251059|     3376251452|        5358320180|         4516817178|           182.2856551|              6650|                  6445|   10024.25555|          55|                       Shopee > CPT|\n",
      "|          ID|   Electronics|Long Tail (LT)|    4122856018|     9863435317|        6059424808|         3147181346|           90.72816768|           1404517|               1680566|   17329.07509|         191|                       Shopee < CPT|\n",
      "|          MY|       Fashion|  Cross Border|    6237367159|     4649091553|        8954884470|         4018215748|           40.25420201|               188|                   174|   6859.337494|         171|                       Shopee > CPT|\n",
      "|          ID|     Lifestyle|          Mall|    3799028368|     7173795667|        2341012093|         8720480772|           67.76676073|           1049063|               1258614|   13214.51407|         195|                       Shopee < CPT|\n",
      "|          VN|     Lifestyle|Long Tail (LT)|    4119550293|     3795401671|        9773422333|         2307363574|           180.8408696|           4399406|               3927891|   18264.92677|         101|                       Shopee > CPT|\n",
      "|          ID|          FMCG|      Non-Mall|    6542930691|     1775280548|        1930877770|         1026468748|           18.05815059|            279549|                241861|     2925.4183|         162|                       Shopee > CPT|\n",
      "|          ID|     Lifestyle|Long Tail (LT)|    8409776064|      437577722|        1295736902|         3819190689|           36.98720624|            572580|                656679|   5067.243306|         137|                       Shopee < CPT|\n",
      "|          MY|       Fashion|          Mall|    4527008742|      851197014|        6006278155|         1637682945|            104.927829|               491|                   578|   3876.246866|          37|                       Shopee < CPT|\n",
      "|          PH|          FMCG|Long Tail (LT)|    3632341535|     9854080722|        1356766059|         7745376784|           20.94193045|              1184|                  1279|   2301.710731|         110|                       Shopee < CPT|\n",
      "+------------+--------------+--------------+--------------+---------------+------------------+-------------------+----------------------+------------------+----------------------+--------------+------------+-----------------------------------+\n",
      "only showing top 20 rows\n",
      "\n"
     ]
    }
   ],
   "source": [
    "df = spark.read \\\n",
    "    .option(\"header\", \"true\") \\\n",
    "    .option(\"delimiter\", \",\") \\\n",
    "    .csv(pricing_path)\n",
    "\n",
    "df.show()\n"
   ]
  },
  {
   "cell_type": "code",
   "execution_count": 37,
   "metadata": {},
   "outputs": [],
   "source": [
    "condition_1 = df.filter(df['shopee_model_competitiveness_status'] == 'Shopee < CPT') \\\n",
    "                .select('shopee_item_id') \\\n",
    "                .distinct() \\\n",
    "                .withColumn('item_competitiveness', when(col('shopee_item_id').isNotNull(), 'Shopee < CPT'))\n"
   ]
  },
  {
   "cell_type": "code",
   "execution_count": 38,
   "metadata": {},
   "outputs": [],
   "source": [
    "condition_2 = df.filter(df['shopee_model_competitiveness_status'] == 'Shopee = CPT') \\\n",
    "                .select('shopee_item_id') \\\n",
    "                .distinct() \\\n",
    "                .withColumn('item_competitiveness', when(col('shopee_item_id').isNotNull(), 'Shopee = CPT'))\n"
   ]
  },
  {
   "cell_type": "code",
   "execution_count": 39,
   "metadata": {},
   "outputs": [],
   "source": [
    "condition_3 = df.filter(df['shopee_model_competitiveness_status'] == 'Shopee > CPT') \\\n",
    "                .select('shopee_item_id') \\\n",
    "                .distinct() \\\n",
    "                .withColumn('item_competitiveness', when(col('shopee_item_id').isNotNull(), 'Shopee > CPT'))\n"
   ]
  },
  {
   "cell_type": "code",
   "execution_count": 40,
   "metadata": {},
   "outputs": [],
   "source": [
    "others = df.select('shopee_item_id') \\\n",
    "            .distinct() \\\n",
    "            .join(condition_1, 'shopee_item_id', 'left_anti') \\\n",
    "            .join(condition_2, 'shopee_item_id', 'left_anti') \\\n",
    "            .join(condition_3, 'shopee_item_id', 'left_anti') \\\n",
    "            .withColumn('shopee_model_competitiveness', when(col('shopee_item_id').isNotNull(), 'Others'))"
   ]
  },
  {
   "cell_type": "code",
   "execution_count": 41,
   "metadata": {},
   "outputs": [
    {
     "name": "stdout",
     "output_type": "stream",
     "text": [
      "+--------------+--------------------+\n",
      "|shopee_item_id|item_competitiveness|\n",
      "+--------------+--------------------+\n",
      "|    8027930079|        Shopee < CPT|\n",
      "|    4427653601|        Shopee < CPT|\n",
      "|    2824466205|        Shopee < CPT|\n",
      "|    5341122547|        Shopee < CPT|\n",
      "|    4462310061|        Shopee < CPT|\n",
      "|    6357434787|        Shopee < CPT|\n",
      "|    4587193987|        Shopee < CPT|\n",
      "|    5606773200|        Shopee < CPT|\n",
      "|    5624048760|        Shopee < CPT|\n",
      "|    2476005413|        Shopee < CPT|\n",
      "|    2973248760|        Shopee < CPT|\n",
      "|    1623598857|        Shopee < CPT|\n",
      "|    6246545229|        Shopee < CPT|\n",
      "|    9931391521|        Shopee < CPT|\n",
      "|    2378507297|        Shopee < CPT|\n",
      "|    7943458464|        Shopee < CPT|\n",
      "|    9491284060|        Shopee < CPT|\n",
      "|    2310826981|        Shopee < CPT|\n",
      "|    5776945463|        Shopee < CPT|\n",
      "|    8882022439|        Shopee < CPT|\n",
      "+--------------+--------------------+\n",
      "only showing top 20 rows\n",
      "\n"
     ]
    }
   ],
   "source": [
    "result = condition_1.union(condition_2).union(condition_3).union(others)\n",
    "\n",
    "result.show()"
   ]
  }
 ],
 "metadata": {
  "kernelspec": {
   "display_name": "Python 3",
   "language": "python",
   "name": "python3"
  },
  "language_info": {
   "codemirror_mode": {
    "name": "ipython",
    "version": 3
   },
   "file_extension": ".py",
   "mimetype": "text/x-python",
   "name": "python",
   "nbconvert_exporter": "python",
   "pygments_lexer": "ipython3",
   "version": "3.10.8"
  }
 },
 "nbformat": 4,
 "nbformat_minor": 2
}
